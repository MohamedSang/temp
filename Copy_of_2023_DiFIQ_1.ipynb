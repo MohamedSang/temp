{
  "nbformat": 4,
  "nbformat_minor": 0,
  "metadata": {
    "colab": {
      "provenance": []
    },
    "kernelspec": {
      "name": "python3",
      "display_name": "Python 3"
    }
  },
  "cells": [
    {
      "cell_type": "markdown",
      "metadata": {
        "id": "yWJMsIyG7VoT"
      },
      "source": [
        "Author: Pierre Brugière \\\\\n",
        "EMAM: 16 05 2023 (for educational purpose only)"
      ]
    },
    {
      "cell_type": "markdown",
      "metadata": {
        "id": "JQP5pyfQAvMc"
      },
      "source": [
        "# Data Extraction.\n",
        "In this program, the closing prices for the components of the GDAX 30 are extracted from \"startinput\" date until \"endinput\" date.\n",
        "From these observations, a vector of expectation $M$ and a matrix  of variance-covariance $Covar$ for the average daily (price) returns are calculated. The vector $Mean\\_A$ and matrix of variance-covariance $Covar\\_A$ for these returns, annualised, are also calculated and will be used as input parameters to calculate the optimal portfolios with and without constraints. The data are extracted from yahoofinance.\n",
        "\n",
        "First you need to install some Python libraries for data extraction from yahoo by running the code below."
      ]
    },
    {
      "cell_type": "code",
      "source": [
        "!pip install yfinance"
      ],
      "metadata": {
        "colab": {
          "base_uri": "https://localhost:8080/"
        },
        "id": "2Y4jfRRBJ-9g",
        "outputId": "e6689dc1-0e84-4310-def5-9b8a18443654"
      },
      "execution_count": 1,
      "outputs": [
        {
          "output_type": "stream",
          "name": "stdout",
          "text": [
            "Requirement already satisfied: yfinance in /usr/local/lib/python3.10/dist-packages (0.2.44)\n",
            "Requirement already satisfied: pandas>=1.3.0 in /usr/local/lib/python3.10/dist-packages (from yfinance) (2.2.2)\n",
            "Requirement already satisfied: numpy>=1.16.5 in /usr/local/lib/python3.10/dist-packages (from yfinance) (1.26.4)\n",
            "Requirement already satisfied: requests>=2.31 in /usr/local/lib/python3.10/dist-packages (from yfinance) (2.32.3)\n",
            "Requirement already satisfied: multitasking>=0.0.7 in /usr/local/lib/python3.10/dist-packages (from yfinance) (0.0.11)\n",
            "Requirement already satisfied: lxml>=4.9.1 in /usr/local/lib/python3.10/dist-packages (from yfinance) (4.9.4)\n",
            "Requirement already satisfied: platformdirs>=2.0.0 in /usr/local/lib/python3.10/dist-packages (from yfinance) (4.3.6)\n",
            "Requirement already satisfied: pytz>=2022.5 in /usr/local/lib/python3.10/dist-packages (from yfinance) (2024.2)\n",
            "Requirement already satisfied: frozendict>=2.3.4 in /usr/local/lib/python3.10/dist-packages (from yfinance) (2.4.6)\n",
            "Requirement already satisfied: peewee>=3.16.2 in /usr/local/lib/python3.10/dist-packages (from yfinance) (3.17.7)\n",
            "Requirement already satisfied: beautifulsoup4>=4.11.1 in /usr/local/lib/python3.10/dist-packages (from yfinance) (4.12.3)\n",
            "Requirement already satisfied: html5lib>=1.1 in /usr/local/lib/python3.10/dist-packages (from yfinance) (1.1)\n",
            "Requirement already satisfied: soupsieve>1.2 in /usr/local/lib/python3.10/dist-packages (from beautifulsoup4>=4.11.1->yfinance) (2.6)\n",
            "Requirement already satisfied: six>=1.9 in /usr/local/lib/python3.10/dist-packages (from html5lib>=1.1->yfinance) (1.16.0)\n",
            "Requirement already satisfied: webencodings in /usr/local/lib/python3.10/dist-packages (from html5lib>=1.1->yfinance) (0.5.1)\n",
            "Requirement already satisfied: python-dateutil>=2.8.2 in /usr/local/lib/python3.10/dist-packages (from pandas>=1.3.0->yfinance) (2.8.2)\n",
            "Requirement already satisfied: tzdata>=2022.7 in /usr/local/lib/python3.10/dist-packages (from pandas>=1.3.0->yfinance) (2024.2)\n",
            "Requirement already satisfied: charset-normalizer<4,>=2 in /usr/local/lib/python3.10/dist-packages (from requests>=2.31->yfinance) (3.4.0)\n",
            "Requirement already satisfied: idna<4,>=2.5 in /usr/local/lib/python3.10/dist-packages (from requests>=2.31->yfinance) (3.10)\n",
            "Requirement already satisfied: urllib3<3,>=1.21.1 in /usr/local/lib/python3.10/dist-packages (from requests>=2.31->yfinance) (2.2.3)\n",
            "Requirement already satisfied: certifi>=2017.4.17 in /usr/local/lib/python3.10/dist-packages (from requests>=2.31->yfinance) (2024.8.30)\n"
          ]
        }
      ]
    },
    {
      "cell_type": "markdown",
      "source": [
        "If all the calculations are executed correctly the \"OK\" message should appear after running the code below."
      ],
      "metadata": {
        "id": "x0vR0TzaOYwV"
      }
    },
    {
      "cell_type": "code",
      "source": [],
      "metadata": {
        "id": "gVG_npH-aipV"
      },
      "execution_count": null,
      "outputs": []
    },
    {
      "cell_type": "code",
      "metadata": {
        "id": "7NFLjRJiNF2t",
        "colab": {
          "base_uri": "https://localhost:8080/"
        },
        "outputId": "5876e055-a2c2-4e2b-ddb0-2bd6d6c16b03"
      },
      "source": [
        "# Data Extraction\n",
        "# Library importations\n",
        "import yfinance as yf\n",
        "import pandas as pd\n",
        "import pandas_datareader.data as web\n",
        "import numpy as np\n",
        "\n",
        "\n",
        "Tickers = ['DPW.DE','ALV.DE','BMW.DE','DTE.DE','FME.DE','BAS.DE',\n",
        "        'HEN3.DE','LIN.F','SAP.DE','DBK.DE','BAYN.DE','VOW3.DE',\n",
        "       'HEI.DE','FRE.F','MRK.DE','BEI.DE','SIE.DE','MUV2.DE',\n",
        "      'DB1.DE','VNA.DE','EOAN.F','DAI.SG','ADS.DE',\n",
        "      'RWE.DE','IFX.DE','1COV.DE','TKA.DE','CON.DE','LHA.DE']\n",
        "\n",
        "startinput = '2017-01-01'\n",
        "endinput = '2017-12-31'\n",
        "S = pd.DataFrame() # create the data frame that will contain the data\n",
        "for t in Tickers :\n",
        "    #S[t] = web.DataReader(name = t, data_source='yahoo',start= startinput,end= endinput)['Close']\n",
        "    S[t] = yf.Ticker(t).history(start=startinput,end=endinput)['Close']\n",
        "\n",
        "# Calculation of the mean vector and variance-covariance matrix\n",
        "R = pd.DataFrame()\n",
        "Mean = pd.DataFrame()\n",
        "Covar = pd.DataFrame()\n",
        "R =S/S.shift(1)-1 # calculate the returns\n",
        "R = R[1:] # eliminate the first raw which is undefined\n",
        "Mean = R.mean() # calculate the mean vector\n",
        "Covar = R.cov() # calculate the variance-covariance matrix\n",
        "\n",
        "# Annualisation of the mean vector and variance-covariance matrix\n",
        "Mean_A = pd.DataFrame()\n",
        "Covar_A = pd.DataFrame()\n",
        "n = len(R) # calculate the number of returns observed\n",
        "d = len(Tickers)# calculate the number of stocks used\n",
        "# Calculation of the average fraction of time (expressed in years) between two observations\n",
        "Ys= int(startinput[0:4])\n",
        "Ms= int(startinput[5:7])\n",
        "Ds= int(startinput[8:10])\n",
        "Ye= int(endinput[0:4])\n",
        "Me= int(endinput[5:7])\n",
        "De= int(endinput[8:10])\n",
        "import datetime\n",
        "startdate = datetime.date(Ys, Ms, Ds)\n",
        "enddate = datetime.date(Ye, Me, De)\n",
        "z=enddate-startdate\n",
        "Duration = float(z.days) # calculate the number of calendar days between the two dates\n",
        "m = float(len(R)-1)\n",
        "delta = Duration/365/m # calculate the time interval, delta\n",
        "Covar_A = Covar/delta # calculate the variance-covariance matrix on an annual basis\n",
        "Mean_A = Mean/delta # calculate the mean vector on an annual basis\n",
        "print (\"OK Data extracted\")"
      ],
      "execution_count": 2,
      "outputs": [
        {
          "output_type": "stream",
          "name": "stderr",
          "text": [
            "ERROR:yfinance:$DPW.DE: possibly delisted; no timezone found\n"
          ]
        },
        {
          "output_type": "stream",
          "name": "stdout",
          "text": [
            "OK Data extracted\n"
          ]
        }
      ]
    },
    {
      "cell_type": "markdown",
      "source": [
        "## Checking a times series"
      ],
      "metadata": {
        "id": "nzXEG8UZvBso"
      }
    },
    {
      "cell_type": "code",
      "source": [
        "import pandas_datareader as pdr\n",
        "import matplotlib.pyplot as plt\n",
        "\n",
        "# Define the stock ticker symbol and the date range\n",
        "ticker = 'ALV.DE'  # Example ticker symbol for Apple Inc.\n",
        "start_date = '2017-01-01'\n",
        "end_date = '2017-12-31'\n",
        "\n",
        "# Extract the time series data from Yahoo Finance\n",
        "df = yf.Ticker(ticker).history(start=startinput,end=endinput)\n",
        "\n",
        "# Plot the closing price\n",
        "plt.plot(df.index, df['Close'])\n",
        "plt.xlabel('Date')\n",
        "plt.ylabel('Closing Price')\n",
        "plt.title('Stock Price for {}'.format(ticker))\n",
        "plt.grid(True)\n",
        "plt.show()"
      ],
      "metadata": {
        "colab": {
          "base_uri": "https://localhost:8080/",
          "height": 472
        },
        "id": "ZOOC20T9wFGZ",
        "outputId": "8e16d0b2-4106-460e-e44a-e95212d87441"
      },
      "execution_count": 3,
      "outputs": [
        {
          "output_type": "display_data",
          "data": {
            "text/plain": [
              "<Figure size 640x480 with 1 Axes>"
            ],
            "image/png": "[encoded data removed]"
          },
          "metadata": {}
        }
      ]
    },
    {
      "cell_type": "markdown",
      "metadata": {
        "id": "rxYMTTzUBqLj"
      },
      "source": [
        "#Optimal Allocation.\n",
        "The determmination of the Markowitz's optimal allocation is solved here with some additional constraints. As there is no explicit solution with these additional constraints, a solver is used which is called \"qpsolvers\" and which runs under Python 3.6. This solver can be added to Colab with the instruction \"!pip install qpsolvers\". The solutions found are compared with the solution of the problem without constraint (which is solved here with \"qpsolvers\" as well, even if an explicit formula exists).\n",
        "\n",
        "More information about \"qpsolvers\" can be found at:\n",
        "\n",
        "https://pypi.org/project/qpsolvers/\n",
        "\n",
        "https://scaron.info/blog/quadratic-programming-in-python.html\n",
        "\n",
        "https://web.stanford.edu/~boyd/papers/pdf/cvxpy_paper.pdf"
      ]
    },
    {
      "cell_type": "code",
      "source": [
        "!pip install qpsolvers # added for running on Colab"
      ],
      "metadata": {
        "colab": {
          "base_uri": "https://localhost:8080/"
        },
        "id": "9eqIGwMXO9Y1",
        "outputId": "4be185c9-ffa7-4be1-ecab-7b86d3022156"
      },
      "execution_count": 4,
      "outputs": [
        {
          "output_type": "stream",
          "name": "stdout",
          "text": [
            "Collecting qpsolvers\n",
            "  Downloading qpsolvers-4.4.0-py3-none-any.whl.metadata (17 kB)\n",
            "Requirement already satisfied: numpy>=1.15.4 in /usr/local/lib/python3.10/dist-packages (from qpsolvers) (1.26.4)\n",
            "Requirement already satisfied: scipy>=1.2.0 in /usr/local/lib/python3.10/dist-packages (from qpsolvers) (1.13.1)\n",
            "Downloading qpsolvers-4.4.0-py3-none-any.whl (82 kB)\n",
            "\u001b[?25l   \u001b[90m━━━━━━━━━━━━━━━━━━━━━━━━━━━━━━━━━━━━━━━━\u001b[0m \u001b[32m0.0/82.2 kB\u001b[0m \u001b[31m?\u001b[0m eta \u001b[36m-:--:--\u001b[0m\r\u001b[2K   \u001b[90m━━━━━━━━━━━━━━━━━━━━━━━━━━━━━━━━━━━━━━━━\u001b[0m \u001b[32m82.2/82.2 kB\u001b[0m \u001b[31m2.7 MB/s\u001b[0m eta \u001b[36m0:00:00\u001b[0m\n",
            "\u001b[?25hInstalling collected packages: qpsolvers\n",
            "Successfully installed qpsolvers-4.4.0\n"
          ]
        }
      ]
    },
    {
      "cell_type": "markdown",
      "metadata": {
        "id": "DVLueifvxNRQ"
      },
      "source": [
        "## Allocation without various constraints.\n",
        "The Markowitz's problem of finding the investment portfolio which presents the minimum risk for a given level of expectation $m$ is solved here for  $m=10\\%$.\n",
        "\n",
        "with solve the problem:\n",
        "*   without constraints on the allocations\n",
        "*   with constraints of positiveness for the allocations\n",
        "*   with constraints of positiveness and 10% limits.\n",
        "\n",
        "\n",
        "The program below can be run after running the \"Data Extraction\" program above.\n",
        "\n",
        "https://qpsolvers.github.io/qpsolvers/quadratic-programming.html"
      ]
    },
    {
      "cell_type": "code",
      "source": [
        "# Optimal investment portfolio of risky assets with and without constraints\n",
        "# import libraries\n",
        "from numpy import array, dot\n",
        "from qpsolvers import solve_qp\n",
        "d=len(Mean)\n",
        "m= 0.1 # expected return chosen here\n",
        "\n",
        "P = array(2*Covar_A)\n",
        "q = np.zeros(d)\n",
        "A = array([Mean_A,[1]*d])\n",
        "b =array([m,1])\n",
        "lb = np.zeros((d, 1))  # min values for the allocations\n",
        "ub= np.ones((d, 1))*.1\n",
        "\n",
        "\n",
        "alloc_1=solve_qp(P, q, G=None, h=None, A=A, b=b, lb=None, ub=None, solver=\"cvxopt\")\n",
        "alloc_2=solve_qp(P, q, G=None, h=None, A=A, b=b, lb=None, ub=ub, solver=\"cvxopt\")\n",
        "alloc_3=solve_qp(P, q, G=None, h=None, A=A, b=b, lb=lb, ub=ub, solver=\"cvxopt\")\n",
        "\n",
        "Vec1=[1]*d\n",
        "# brackets added for print for Python 3\n",
        "\n",
        "print (\"check alloc:\", dot(alloc_1.T, Vec1),dot(alloc_2.T, Vec1),dot(alloc_3.T, Vec1))\n",
        "mean_1=dot(alloc_1.T, Mean_A)\n",
        "mean_2=dot(alloc_3.T, Mean_A)\n",
        "mean_3=dot(alloc_1.T, Mean_A)\n",
        "print (\"check mean:\", mean_1,dot(alloc_2.T, Mean_A),dot(alloc_3.T, Mean_A))\n",
        "std_1=np.sqrt(dot(alloc_1.T, dot(P, alloc_1))/2)\n",
        "std_2=np.sqrt(dot(alloc_2.T, dot(P, alloc_2))/2)\n",
        "std_3=np.sqrt(dot(alloc_3.T, dot(P, alloc_3))/2)\n",
        "print (\"standard deviation:\", std_1, std_2, std_3) # standard deviation\n",
        "for i in range(d):\n",
        "  print(\"{:<12s}: {:>8.2f}% {:>8.2f}% {:>8.2f}%\".format(Tickers[i], 100 * alloc_1[i], 100 * alloc_2[i], 100 * alloc_3[i]))"
      ],
      "metadata": {
        "colab": {
          "base_uri": "https://localhost:8080/"
        },
        "id": "AkzVMI3mQIow",
        "outputId": "19fda09b-2c1c-46a9-c740-4d7635bd8c2f"
      },
      "execution_count": 5,
      "outputs": [
        {
          "output_type": "stream",
          "name": "stdout",
          "text": [
            "check alloc: 0.9999999999999998 1.0000000000000002 1.0000000000000002\n",
            "check mean: nan nan nan\n",
            "standard deviation: nan nan nan\n",
            "DPW.DE      :    94.26%    10.00%    10.00%\n",
            "ALV.DE      :     6.31%     1.04%     0.00%\n",
            "BMW.DE      :    -2.91%     6.72%     3.47%\n",
            "DTE.DE      :    -2.63%    10.00%    10.00%\n",
            "FME.DE      :     0.34%     0.48%     0.01%\n",
            "BAS.DE      :    -1.07%    -2.87%     0.00%\n",
            "HEN3.DE     :    -5.75%     3.17%     4.87%\n",
            "LIN.F       :     1.00%     9.15%     9.34%\n",
            "SAP.DE      :    -0.96%     6.06%     0.65%\n",
            "DBK.DE      :    -0.79%    -2.29%     0.00%\n",
            "BAYN.DE     :     2.13%    -0.42%     0.00%\n",
            "VOW3.DE     :     1.31%    -0.62%     0.00%\n",
            "HEI.DE      :     0.96%     2.47%     0.44%\n",
            "FRE.F       :    -3.84%    -0.07%     0.46%\n",
            "MRK.DE      :    -1.81%     9.42%     9.92%\n",
            "BEI.DE      :     3.14%     5.19%     4.92%\n",
            "SIE.DE      :    -1.54%    -5.07%     0.00%\n",
            "MUV2.DE     :    -1.71%    10.00%    10.00%\n",
            "DB1.DE      :     1.85%     8.67%     6.83%\n",
            "VNA.DE      :     5.05%    10.00%    10.00%\n",
            "EOAN.F      :     0.76%     4.04%     1.77%\n",
            "DAI.SG      :    -0.68%    10.00%    10.00%\n",
            "ADS.DE      :    -0.20%     3.35%     2.55%\n",
            "RWE.DE      :     1.13%    -1.53%     0.00%\n",
            "IFX.DE      :     1.06%    -4.79%     0.00%\n",
            "1COV.DE     :     0.90%     4.49%     3.72%\n",
            "TKA.DE      :    -0.76%    -0.25%     0.00%\n",
            "CON.DE      :     1.20%     4.28%     1.07%\n",
            "LHA.DE      :     3.25%    -0.61%     0.00%\n"
          ]
        }
      ]
    },
    {
      "cell_type": "markdown",
      "metadata": {
        "id": "LeyUQkH1ZB45"
      },
      "source": [
        "## Optimal allocation with positiveness constraints, $10\\%$ limit and correlation adjustements.\n",
        "The problem of finding the investment portfolio which presents the minimum risk for a given level of expectation $m$ is solved here for $m=10\\%$. To take into account the uncertainty of the variance-covariance estimates, all the diagonal terms of the variance_covariance matrix are multiplied by the factor $1.1^2$. By doing so, all estimated correlations are divided by a factor $1.1$."
      ]
    },
    {
      "cell_type": "code",
      "source": [
        "!pip install qpsolvers # added for running on Colab"
      ],
      "metadata": {
        "id": "NEAnj_4ZJWV4",
        "colab": {
          "base_uri": "https://localhost:8080/"
        },
        "outputId": "aab3b020-33b1-4f3a-bfac-d2649ecd794a"
      },
      "execution_count": 6,
      "outputs": [
        {
          "output_type": "stream",
          "name": "stdout",
          "text": [
            "Requirement already satisfied: qpsolvers in /usr/local/lib/python3.10/dist-packages (4.4.0)\n",
            "Requirement already satisfied: numpy>=1.15.4 in /usr/local/lib/python3.10/dist-packages (from qpsolvers) (1.26.4)\n",
            "Requirement already satisfied: scipy>=1.2.0 in /usr/local/lib/python3.10/dist-packages (from qpsolvers) (1.13.1)\n"
          ]
        }
      ]
    },
    {
      "cell_type": "code",
      "source": [
        "# Allocations with constraints of positiveness and 10% limit, with 10% shrinkage\n",
        "# Ref1: https://pypi.org/project/qpsolvers/\n",
        "# Ref2: https://scaron.info/blog/quadratic-programming-in-python.html\n",
        "# Ref3: https://web.stanford.edu/~boyd/papers/pdf/cvxpy_paper.pdf\n",
        "\n",
        "from numpy import array, dot\n",
        "from qpsolvers import solve_qp\n",
        "\n",
        "m= 0.1 # expected return chosen here\n",
        "\n",
        "Covar_B = pd.DataFrame()\n",
        "Covar_B = Covar_A.copy()\n",
        "for x in Tickers:\n",
        "    Covar_B[x][x] = (1.1**2)*Covar_B[x][x]\n",
        "\n",
        "P = array(2*Covar_A)\n",
        "q = np.zeros(d)\n",
        "A = array([Mean_A,[1]*d])\n",
        "b =array([m,1])\n",
        "lb = np.zeros((d, 1))  # min values for the allocations\n",
        "ub= np.ones((d, 1))*.1\n",
        "\n",
        "\n",
        "alloc_1=solve_qp(P, q, G=None, h=None, A=A, b=b, lb=None, ub=None, solver=\"cvxopt\")\n",
        "alloc_2=solve_qp(P, q, G=None, h=None, A=A, b=b, lb=None, ub=ub, solver=\"cvxopt\")\n",
        "alloc_3=solve_qp(P, q, G=None, h=None, A=A, b=b, lb=lb, ub=ub, solver=\"cvxopt\")\n",
        "\n",
        "Vec1=[1]*d\n",
        "# brackets added for print for Python 3\n",
        "\n",
        "print (\"check alloc:\", dot(alloc_1.T, Vec1),dot(alloc_2.T, Vec1),dot(alloc_3.T, Vec1))\n",
        "mean_1=dot(alloc_1.T, Mean_A)\n",
        "mean_2=dot(alloc_3.T, Mean_A)\n",
        "mean_3=dot(alloc_1.T, Mean_A)\n",
        "print (\"check mean:\", mean_1,dot(alloc_2.T, Mean_A),dot(alloc_3.T, Mean_A))\n",
        "std_1=np.sqrt(dot(alloc_1.T, dot(P, alloc_1))/2)\n",
        "std_2=np.sqrt(dot(alloc_2.T, dot(P, alloc_2))/2)\n",
        "std_3=np.sqrt(dot(alloc_3.T, dot(P, alloc_3))/2)\n",
        "print (\"standard deviation:\", std_1, std_2, std_3) # standard deviation\n",
        "for i in range(d):\n",
        "  print(\"{:<12s}: {:>8.2f}% {:>8.2f}% {:>8.2f}%\".format(Tickers[i], 100 * alloc_1[i], 100 * alloc_2[i], 100 * alloc_3[i]))"
      ],
      "metadata": {
        "colab": {
          "base_uri": "https://localhost:8080/"
        },
        "id": "LAyAwHYWIxXP",
        "outputId": "4ce668f3-5433-4c93-9657-d5e0f4dfcef3"
      },
      "execution_count": 7,
      "outputs": [
        {
          "output_type": "stream",
          "name": "stdout",
          "text": [
            "check alloc: 0.9999999999999998 1.0000000000000002 1.0000000000000002\n",
            "check mean: nan nan nan\n",
            "standard deviation: nan nan nan\n",
            "DPW.DE      :    94.26%    10.00%    10.00%\n",
            "ALV.DE      :     6.31%     1.04%     0.00%\n",
            "BMW.DE      :    -2.91%     6.72%     3.47%\n",
            "DTE.DE      :    -2.63%    10.00%    10.00%\n",
            "FME.DE      :     0.34%     0.48%     0.01%\n",
            "BAS.DE      :    -1.07%    -2.87%     0.00%\n",
            "HEN3.DE     :    -5.75%     3.17%     4.87%\n",
            "LIN.F       :     1.00%     9.15%     9.34%\n",
            "SAP.DE      :    -0.96%     6.06%     0.65%\n",
            "DBK.DE      :    -0.79%    -2.29%     0.00%\n",
            "BAYN.DE     :     2.13%    -0.42%     0.00%\n",
            "VOW3.DE     :     1.31%    -0.62%     0.00%\n",
            "HEI.DE      :     0.96%     2.47%     0.44%\n",
            "FRE.F       :    -3.84%    -0.07%     0.46%\n",
            "MRK.DE      :    -1.81%     9.42%     9.92%\n",
            "BEI.DE      :     3.14%     5.19%     4.92%\n",
            "SIE.DE      :    -1.54%    -5.07%     0.00%\n",
            "MUV2.DE     :    -1.71%    10.00%    10.00%\n",
            "DB1.DE      :     1.85%     8.67%     6.83%\n",
            "VNA.DE      :     5.05%    10.00%    10.00%\n",
            "EOAN.F      :     0.76%     4.04%     1.77%\n",
            "DAI.SG      :    -0.68%    10.00%    10.00%\n",
            "ADS.DE      :    -0.20%     3.35%     2.55%\n",
            "RWE.DE      :     1.13%    -1.53%     0.00%\n",
            "IFX.DE      :     1.06%    -4.79%     0.00%\n",
            "1COV.DE     :     0.90%     4.49%     3.72%\n",
            "TKA.DE      :    -0.76%    -0.25%     0.00%\n",
            "CON.DE      :     1.20%     4.28%     1.07%\n",
            "LHA.DE      :     3.25%    -0.61%     0.00%\n"
          ]
        },
        {
          "output_type": "stream",
          "name": "stderr",
          "text": [
            "<ipython-input-7-101ab66b6588>:14: FutureWarning: ChainedAssignmentError: behaviour will change in pandas 3.0!\n",
            "You are setting values through chained assignment. Currently this works in certain cases, but when using Copy-on-Write (which will become the default behaviour in pandas 3.0) this will never work to update the original DataFrame or Series, because the intermediate object on which we are setting values will behave as a copy.\n",
            "A typical example is when you are setting values in a column of a DataFrame, like:\n",
            "\n",
            "df[\"col\"][row_indexer] = value\n",
            "\n",
            "Use `df.loc[row_indexer, \"col\"] = values` instead, to perform the assignment in a single step and ensure this keeps updating the original `df`.\n",
            "\n",
            "See the caveats in the documentation: https://pandas.pydata.org/pandas-docs/stable/user_guide/indexing.html#returning-a-view-versus-a-copy\n",
            "\n",
            "  Covar_B[x][x] = (1.1**2)*Covar_B[x][x]\n"
          ]
        }
      ]
    },
    {
      "cell_type": "markdown",
      "metadata": {
        "id": "1f-jKzuyTxCn"
      },
      "source": [
        "# VaR of a Portfolio.\n",
        "In this section the **VaR** of a portfolio is calculated with two different methods, based on the observations of the daily returns of the portfolio. In the first method, the **VaR** is calculated for a normal law having the same mean and variance as the portfolio. In the second method, the **VaR** is calculated according to the **bootstrap** method."
      ]
    },
    {
      "cell_type": "markdown",
      "metadata": {
        "id": "qQfHAq7LbDBz"
      },
      "source": [
        "## Data Extraction\n",
        "Here the historical prices for 5 stocks are extracted from \"startinput\" date to \"endinput\" date. Then a portfolio is considered for which each stock has the same weight at inception. For this portfolio, the histogram of the daily returns is calculated over the period $[startinput\\_date,  endinput\\_date]$. For this portfolio, the Skew and Kurtosis of the returns and the statistics of the Bera-Jarque's test are calculated to test the hypothesis of normality."
      ]
    },
    {
      "cell_type": "code",
      "metadata": {
        "id": "Tn_IXjwZfO6c",
        "colab": {
          "base_uri": "https://localhost:8080/",
          "height": 861
        },
        "outputId": "59fef50a-599e-410d-eb50-dff571e93662"
      },
      "source": [
        "#### Import Packages\n",
        "import pandas as pd\n",
        "import numpy as np\n",
        "import math\n",
        "from scipy import stats\n",
        "from scipy.stats import norm\n",
        "from scipy.stats import skew\n",
        "from scipy.stats import kurtosis\n",
        "import pandas_datareader.data as web\n",
        "import matplotlib.pyplot as plt\n",
        "import matplotlib.mlab as mlab\n",
        "##################################################################\n",
        "###                     Data Extraction                        ###\n",
        "##################################################################\n",
        "Tickers = ['DPW.DE','ALV.DE', 'BMW.DE', 'BAS.DE', 'FME.DE']\n",
        "# Define the observation period\n",
        "startinput = '2017-01-1'\n",
        "endinput = '2017-12-31'\n",
        "S = pd.DataFrame() # Create the Dataframe that will contain the prices observed\n",
        "for t in Tickers :\n",
        "    #S[t] = web.DataReader( name = t, data_source = 'yahoo', start = startinput, end = endinput)['Close']\n",
        "    S[t] = yf.Ticker(t).history(start=startinput,end=endinput)['Close']\n",
        "# one row per date\n",
        "# one column per stock\n",
        "# To save the data on pc : S.to_csv('C:/Users/Me/Documents/data.csv')\n",
        "##################################################################\n",
        "###               Asset Returns Computation                    ###\n",
        "##################################################################\n",
        "R = pd.DataFrame() # dataframe that will contains the stocks returns\n",
        "# Calculating the stocks daily returns\n",
        "for t in Tickers :\n",
        "    R[t] = S[t]/S[t].shift(1) - 1\n",
        "R = R[1:] # Eliminates the first row\n",
        "##################################################################\n",
        "###                   Allocation                               ###\n",
        "##################################################################\n",
        "d = len(Tickers) # number of stocks considered\n",
        "# define the weight of each stock in the portfolio : arbitrary choice\n",
        "w = np.zeros(d)\n",
        "for i in range(d):\n",
        "    w[i] = 1.0/d\n",
        "##################################################################\n",
        "###                     Portfolio returns                      ###\n",
        "##################################################################\n",
        "R_ptf = R.dot(w) # Compute the daily return of the portfolio\n",
        "##################################################################\n",
        "###               Histogramm & Normality test                  ###\n",
        "##################################################################\n",
        "## parameters of the normal curve\n",
        "meanR = np.mean(R_ptf)\n",
        "sdevR = np.std(R_ptf)\n",
        "minR  = np.min(R_ptf)\n",
        "maxR  = np.max(R_ptf)\n",
        "x     = np.linspace(minR, maxR, 100)\n",
        "\n",
        "##plot\n",
        "plt.hist(R_ptf, edgecolor = 'black', bins=15)\n",
        "plt.plot(x,norm.pdf(x,meanR,sdevR))\n",
        "plt.grid(True)\n",
        "plt.xlabel('Range Daily Returns')\n",
        "plt.ylabel('Number of observations')\n",
        "plt.show()\n",
        "\n",
        "## Bera-Jarque test\n",
        "skewnessR       = skew(R_ptf)\n",
        "excesskurtosisR = kurtosis(R_ptf, fisher=True)\n",
        "n               = len(R_ptf)\n",
        "bj              = (n/6) * (skewnessR**2) + (n/24) * (excesskurtosisR**2)\n",
        "chi2quantile    = stats.chi2.ppf(0.95, df=2)\n",
        "print (\"Bera-Jarque statistics:\",bj)\n",
        "print (\"quantile 95%:\", chi2quantile)\n",
        "if bj > chi2quantile : print (\"Normality assumption rejected\")\n",
        "else : print (\"Normality assumption accepted\")"
      ],
      "execution_count": 8,
      "outputs": [
        {
          "output_type": "stream",
          "name": "stderr",
          "text": [
            "ERROR:yfinance:$DPW.DE: possibly delisted; no timezone found\n",
            "/usr/local/lib/python3.10/dist-packages/matplotlib/axes/_axes.py:6762: RuntimeWarning: All-NaN slice encountered\n",
            "  xmin = min(xmin, np.nanmin(xi))\n",
            "/usr/local/lib/python3.10/dist-packages/matplotlib/axes/_axes.py:6763: RuntimeWarning: All-NaN slice encountered\n",
            "  xmax = max(xmax, np.nanmax(xi))\n"
          ]
        },
        {
          "output_type": "error",
          "ename": "ValueError",
          "evalue": "autodetected range of [nan, nan] is not finite",
          "traceback": [
            "\u001b[0;31m---------------------------------------------------------------------------\u001b[0m",
            "\u001b[0;31mValueError\u001b[0m                                Traceback (most recent call last)",
            "\u001b[0;32m<ipython-input-8-39e6c465ccba>\u001b[0m in \u001b[0;36m<cell line: 57>\u001b[0;34m()\u001b[0m\n\u001b[1;32m     55\u001b[0m \u001b[0;34m\u001b[0m\u001b[0m\n\u001b[1;32m     56\u001b[0m \u001b[0;31m##plot\u001b[0m\u001b[0;34m\u001b[0m\u001b[0;34m\u001b[0m\u001b[0m\n\u001b[0;32m---> 57\u001b[0;31m \u001b[0mplt\u001b[0m\u001b[0;34m.\u001b[0m\u001b[0mhist\u001b[0m\u001b[0;34m(\u001b[0m\u001b[0mR_ptf\u001b[0m\u001b[0;34m,\u001b[0m \u001b[0medgecolor\u001b[0m \u001b[0;34m=\u001b[0m \u001b[0;34m'black'\u001b[0m\u001b[0;34m,\u001b[0m \u001b[0mbins\u001b[0m\u001b[0;34m=\u001b[0m\u001b[0;36m15\u001b[0m\u001b[0;34m)\u001b[0m\u001b[0;34m\u001b[0m\u001b[0;34m\u001b[0m\u001b[0m\n\u001b[0m\u001b[1;32m     58\u001b[0m \u001b[0mplt\u001b[0m\u001b[0;34m.\u001b[0m\u001b[0mplot\u001b[0m\u001b[0;34m(\u001b[0m\u001b[0mx\u001b[0m\u001b[0;34m,\u001b[0m\u001b[0mnorm\u001b[0m\u001b[0;34m.\u001b[0m\u001b[0mpdf\u001b[0m\u001b[0;34m(\u001b[0m\u001b[0mx\u001b[0m\u001b[0;34m,\u001b[0m\u001b[0mmeanR\u001b[0m\u001b[0;34m,\u001b[0m\u001b[0msdevR\u001b[0m\u001b[0;34m)\u001b[0m\u001b[0;34m)\u001b[0m\u001b[0;34m\u001b[0m\u001b[0;34m\u001b[0m\u001b[0m\n\u001b[1;32m     59\u001b[0m \u001b[0mplt\u001b[0m\u001b[0;34m.\u001b[0m\u001b[0mgrid\u001b[0m\u001b[0;34m(\u001b[0m\u001b[0;32mTrue\u001b[0m\u001b[0;34m)\u001b[0m\u001b[0;34m\u001b[0m\u001b[0;34m\u001b[0m\u001b[0m\n",
            "\u001b[0;32m/usr/local/lib/python3.10/dist-packages/matplotlib/pyplot.py\u001b[0m in \u001b[0;36mhist\u001b[0;34m(x, bins, range, density, weights, cumulative, bottom, histtype, align, orientation, rwidth, log, color, label, stacked, data, **kwargs)\u001b[0m\n\u001b[1;32m   2643\u001b[0m         \u001b[0morientation\u001b[0m\u001b[0;34m=\u001b[0m\u001b[0;34m'vertical'\u001b[0m\u001b[0;34m,\u001b[0m \u001b[0mrwidth\u001b[0m\u001b[0;34m=\u001b[0m\u001b[0;32mNone\u001b[0m\u001b[0;34m,\u001b[0m \u001b[0mlog\u001b[0m\u001b[0;34m=\u001b[0m\u001b[0;32mFalse\u001b[0m\u001b[0;34m,\u001b[0m \u001b[0mcolor\u001b[0m\u001b[0;34m=\u001b[0m\u001b[0;32mNone\u001b[0m\u001b[0;34m,\u001b[0m\u001b[0;34m\u001b[0m\u001b[0;34m\u001b[0m\u001b[0m\n\u001b[1;32m   2644\u001b[0m         label=None, stacked=False, *, data=None, **kwargs):\n\u001b[0;32m-> 2645\u001b[0;31m     return gca().hist(\n\u001b[0m\u001b[1;32m   2646\u001b[0m         \u001b[0mx\u001b[0m\u001b[0;34m,\u001b[0m \u001b[0mbins\u001b[0m\u001b[0;34m=\u001b[0m\u001b[0mbins\u001b[0m\u001b[0;34m,\u001b[0m \u001b[0mrange\u001b[0m\u001b[0;34m=\u001b[0m\u001b[0mrange\u001b[0m\u001b[0;34m,\u001b[0m \u001b[0mdensity\u001b[0m\u001b[0;34m=\u001b[0m\u001b[0mdensity\u001b[0m\u001b[0;34m,\u001b[0m \u001b[0mweights\u001b[0m\u001b[0;34m=\u001b[0m\u001b[0mweights\u001b[0m\u001b[0;34m,\u001b[0m\u001b[0;34m\u001b[0m\u001b[0;34m\u001b[0m\u001b[0m\n\u001b[1;32m   2647\u001b[0m         \u001b[0mcumulative\u001b[0m\u001b[0;34m=\u001b[0m\u001b[0mcumulative\u001b[0m\u001b[0;34m,\u001b[0m \u001b[0mbottom\u001b[0m\u001b[0;34m=\u001b[0m\u001b[0mbottom\u001b[0m\u001b[0;34m,\u001b[0m \u001b[0mhisttype\u001b[0m\u001b[0;34m=\u001b[0m\u001b[0mhisttype\u001b[0m\u001b[0;34m,\u001b[0m\u001b[0;34m\u001b[0m\u001b[0;34m\u001b[0m\u001b[0m\n",
            "\u001b[0;32m/usr/local/lib/python3.10/dist-packages/matplotlib/__init__.py\u001b[0m in \u001b[0;36minner\u001b[0;34m(ax, data, *args, **kwargs)\u001b[0m\n\u001b[1;32m   1440\u001b[0m     \u001b[0;32mdef\u001b[0m \u001b[0minner\u001b[0m\u001b[0;34m(\u001b[0m\u001b[0max\u001b[0m\u001b[0;34m,\u001b[0m \u001b[0;34m*\u001b[0m\u001b[0margs\u001b[0m\u001b[0;34m,\u001b[0m \u001b[0mdata\u001b[0m\u001b[0;34m=\u001b[0m\u001b[0;32mNone\u001b[0m\u001b[0;34m,\u001b[0m \u001b[0;34m**\u001b[0m\u001b[0mkwargs\u001b[0m\u001b[0;34m)\u001b[0m\u001b[0;34m:\u001b[0m\u001b[0;34m\u001b[0m\u001b[0;34m\u001b[0m\u001b[0m\n\u001b[1;32m   1441\u001b[0m         \u001b[0;32mif\u001b[0m \u001b[0mdata\u001b[0m \u001b[0;32mis\u001b[0m \u001b[0;32mNone\u001b[0m\u001b[0;34m:\u001b[0m\u001b[0;34m\u001b[0m\u001b[0;34m\u001b[0m\u001b[0m\n\u001b[0;32m-> 1442\u001b[0;31m             \u001b[0;32mreturn\u001b[0m \u001b[0mfunc\u001b[0m\u001b[0;34m(\u001b[0m\u001b[0max\u001b[0m\u001b[0;34m,\u001b[0m \u001b[0;34m*\u001b[0m\u001b[0mmap\u001b[0m\u001b[0;34m(\u001b[0m\u001b[0msanitize_sequence\u001b[0m\u001b[0;34m,\u001b[0m \u001b[0margs\u001b[0m\u001b[0;34m)\u001b[0m\u001b[0;34m,\u001b[0m \u001b[0;34m**\u001b[0m\u001b[0mkwargs\u001b[0m\u001b[0;34m)\u001b[0m\u001b[0;34m\u001b[0m\u001b[0;34m\u001b[0m\u001b[0m\n\u001b[0m\u001b[1;32m   1443\u001b[0m \u001b[0;34m\u001b[0m\u001b[0m\n\u001b[1;32m   1444\u001b[0m         \u001b[0mbound\u001b[0m \u001b[0;34m=\u001b[0m \u001b[0mnew_sig\u001b[0m\u001b[0;34m.\u001b[0m\u001b[0mbind\u001b[0m\u001b[0;34m(\u001b[0m\u001b[0max\u001b[0m\u001b[0;34m,\u001b[0m \u001b[0;34m*\u001b[0m\u001b[0margs\u001b[0m\u001b[0;34m,\u001b[0m \u001b[0;34m**\u001b[0m\u001b[0mkwargs\u001b[0m\u001b[0;34m)\u001b[0m\u001b[0;34m\u001b[0m\u001b[0;34m\u001b[0m\u001b[0m\n",
            "\u001b[0;32m/usr/local/lib/python3.10/dist-packages/matplotlib/axes/_axes.py\u001b[0m in \u001b[0;36mhist\u001b[0;34m(self, x, bins, range, density, weights, cumulative, bottom, histtype, align, orientation, rwidth, log, color, label, stacked, **kwargs)\u001b[0m\n\u001b[1;32m   6788\u001b[0m             \u001b[0;31m# this will automatically overwrite bins,\u001b[0m\u001b[0;34m\u001b[0m\u001b[0;34m\u001b[0m\u001b[0m\n\u001b[1;32m   6789\u001b[0m             \u001b[0;31m# so that each histogram uses the same bins\u001b[0m\u001b[0;34m\u001b[0m\u001b[0;34m\u001b[0m\u001b[0m\n\u001b[0;32m-> 6790\u001b[0;31m             \u001b[0mm\u001b[0m\u001b[0;34m,\u001b[0m \u001b[0mbins\u001b[0m \u001b[0;34m=\u001b[0m \u001b[0mnp\u001b[0m\u001b[0;34m.\u001b[0m\u001b[0mhistogram\u001b[0m\u001b[0;34m(\u001b[0m\u001b[0mx\u001b[0m\u001b[0;34m[\u001b[0m\u001b[0mi\u001b[0m\u001b[0;34m]\u001b[0m\u001b[0;34m,\u001b[0m \u001b[0mbins\u001b[0m\u001b[0;34m,\u001b[0m \u001b[0mweights\u001b[0m\u001b[0;34m=\u001b[0m\u001b[0mw\u001b[0m\u001b[0;34m[\u001b[0m\u001b[0mi\u001b[0m\u001b[0;34m]\u001b[0m\u001b[0;34m,\u001b[0m \u001b[0;34m**\u001b[0m\u001b[0mhist_kwargs\u001b[0m\u001b[0;34m)\u001b[0m\u001b[0;34m\u001b[0m\u001b[0;34m\u001b[0m\u001b[0m\n\u001b[0m\u001b[1;32m   6791\u001b[0m             \u001b[0mtops\u001b[0m\u001b[0;34m.\u001b[0m\u001b[0mappend\u001b[0m\u001b[0;34m(\u001b[0m\u001b[0mm\u001b[0m\u001b[0;34m)\u001b[0m\u001b[0;34m\u001b[0m\u001b[0;34m\u001b[0m\u001b[0m\n\u001b[1;32m   6792\u001b[0m         \u001b[0mtops\u001b[0m \u001b[0;34m=\u001b[0m \u001b[0mnp\u001b[0m\u001b[0;34m.\u001b[0m\u001b[0marray\u001b[0m\u001b[0;34m(\u001b[0m\u001b[0mtops\u001b[0m\u001b[0;34m,\u001b[0m \u001b[0mfloat\u001b[0m\u001b[0;34m)\u001b[0m  \u001b[0;31m# causes problems later if it's an int\u001b[0m\u001b[0;34m\u001b[0m\u001b[0;34m\u001b[0m\u001b[0m\n",
            "\u001b[0;32m/usr/local/lib/python3.10/dist-packages/numpy/lib/histograms.py\u001b[0m in \u001b[0;36mhistogram\u001b[0;34m(a, bins, range, density, weights)\u001b[0m\n\u001b[1;32m    778\u001b[0m     \u001b[0ma\u001b[0m\u001b[0;34m,\u001b[0m \u001b[0mweights\u001b[0m \u001b[0;34m=\u001b[0m \u001b[0m_ravel_and_check_weights\u001b[0m\u001b[0;34m(\u001b[0m\u001b[0ma\u001b[0m\u001b[0;34m,\u001b[0m \u001b[0mweights\u001b[0m\u001b[0;34m)\u001b[0m\u001b[0;34m\u001b[0m\u001b[0;34m\u001b[0m\u001b[0m\n\u001b[1;32m    779\u001b[0m \u001b[0;34m\u001b[0m\u001b[0m\n\u001b[0;32m--> 780\u001b[0;31m     \u001b[0mbin_edges\u001b[0m\u001b[0;34m,\u001b[0m \u001b[0muniform_bins\u001b[0m \u001b[0;34m=\u001b[0m \u001b[0m_get_bin_edges\u001b[0m\u001b[0;34m(\u001b[0m\u001b[0ma\u001b[0m\u001b[0;34m,\u001b[0m \u001b[0mbins\u001b[0m\u001b[0;34m,\u001b[0m \u001b[0mrange\u001b[0m\u001b[0;34m,\u001b[0m \u001b[0mweights\u001b[0m\u001b[0;34m)\u001b[0m\u001b[0;34m\u001b[0m\u001b[0;34m\u001b[0m\u001b[0m\n\u001b[0m\u001b[1;32m    781\u001b[0m \u001b[0;34m\u001b[0m\u001b[0m\n\u001b[1;32m    782\u001b[0m     \u001b[0;31m# Histogram is an integer or a float array depending on the weights.\u001b[0m\u001b[0;34m\u001b[0m\u001b[0;34m\u001b[0m\u001b[0m\n",
            "\u001b[0;32m/usr/local/lib/python3.10/dist-packages/numpy/lib/histograms.py\u001b[0m in \u001b[0;36m_get_bin_edges\u001b[0;34m(a, bins, range, weights)\u001b[0m\n\u001b[1;32m    424\u001b[0m             \u001b[0;32mraise\u001b[0m \u001b[0mValueError\u001b[0m\u001b[0;34m(\u001b[0m\u001b[0;34m'`bins` must be positive, when an integer'\u001b[0m\u001b[0;34m)\u001b[0m\u001b[0;34m\u001b[0m\u001b[0;34m\u001b[0m\u001b[0m\n\u001b[1;32m    425\u001b[0m \u001b[0;34m\u001b[0m\u001b[0m\n\u001b[0;32m--> 426\u001b[0;31m         \u001b[0mfirst_edge\u001b[0m\u001b[0;34m,\u001b[0m \u001b[0mlast_edge\u001b[0m \u001b[0;34m=\u001b[0m \u001b[0m_get_outer_edges\u001b[0m\u001b[0;34m(\u001b[0m\u001b[0ma\u001b[0m\u001b[0;34m,\u001b[0m \u001b[0mrange\u001b[0m\u001b[0;34m)\u001b[0m\u001b[0;34m\u001b[0m\u001b[0;34m\u001b[0m\u001b[0m\n\u001b[0m\u001b[1;32m    427\u001b[0m \u001b[0;34m\u001b[0m\u001b[0m\n\u001b[1;32m    428\u001b[0m     \u001b[0;32melif\u001b[0m \u001b[0mnp\u001b[0m\u001b[0;34m.\u001b[0m\u001b[0mndim\u001b[0m\u001b[0;34m(\u001b[0m\u001b[0mbins\u001b[0m\u001b[0;34m)\u001b[0m \u001b[0;34m==\u001b[0m \u001b[0;36m1\u001b[0m\u001b[0;34m:\u001b[0m\u001b[0;34m\u001b[0m\u001b[0;34m\u001b[0m\u001b[0m\n",
            "\u001b[0;32m/usr/local/lib/python3.10/dist-packages/numpy/lib/histograms.py\u001b[0m in \u001b[0;36m_get_outer_edges\u001b[0;34m(a, range)\u001b[0m\n\u001b[1;32m    321\u001b[0m         \u001b[0mfirst_edge\u001b[0m\u001b[0;34m,\u001b[0m \u001b[0mlast_edge\u001b[0m \u001b[0;34m=\u001b[0m \u001b[0ma\u001b[0m\u001b[0;34m.\u001b[0m\u001b[0mmin\u001b[0m\u001b[0;34m(\u001b[0m\u001b[0;34m)\u001b[0m\u001b[0;34m,\u001b[0m \u001b[0ma\u001b[0m\u001b[0;34m.\u001b[0m\u001b[0mmax\u001b[0m\u001b[0;34m(\u001b[0m\u001b[0;34m)\u001b[0m\u001b[0;34m\u001b[0m\u001b[0;34m\u001b[0m\u001b[0m\n\u001b[1;32m    322\u001b[0m         \u001b[0;32mif\u001b[0m \u001b[0;32mnot\u001b[0m \u001b[0;34m(\u001b[0m\u001b[0mnp\u001b[0m\u001b[0;34m.\u001b[0m\u001b[0misfinite\u001b[0m\u001b[0;34m(\u001b[0m\u001b[0mfirst_edge\u001b[0m\u001b[0;34m)\u001b[0m \u001b[0;32mand\u001b[0m \u001b[0mnp\u001b[0m\u001b[0;34m.\u001b[0m\u001b[0misfinite\u001b[0m\u001b[0;34m(\u001b[0m\u001b[0mlast_edge\u001b[0m\u001b[0;34m)\u001b[0m\u001b[0;34m)\u001b[0m\u001b[0;34m:\u001b[0m\u001b[0;34m\u001b[0m\u001b[0;34m\u001b[0m\u001b[0m\n\u001b[0;32m--> 323\u001b[0;31m             raise ValueError(\n\u001b[0m\u001b[1;32m    324\u001b[0m                 \"autodetected range of [{}, {}] is not finite\".format(first_edge, last_edge))\n\u001b[1;32m    325\u001b[0m \u001b[0;34m\u001b[0m\u001b[0m\n",
            "\u001b[0;31mValueError\u001b[0m: autodetected range of [nan, nan] is not finite"
          ]
        },
        {
          "output_type": "display_data",
          "data": {
            "text/plain": [
              "<Figure size 640x480 with 1 Axes>"
            ],
            "image/png": "[encoded data removed]"
          },
          "metadata": {}
        }
      ]
    },
    {
      "cell_type": "code",
      "metadata": {
        "id": "rJCfwVrAvQuj"
      },
      "source": [
        "print(excesskurtosisR)"
      ],
      "execution_count": null,
      "outputs": []
    },
    {
      "cell_type": "markdown",
      "metadata": {
        "id": "OpaPjRxVkBt0"
      },
      "source": [
        "## Calculation of the **VaR** 99% under the Gaussian hypothesis.\n",
        "Here the  **VaR** 99% is calculated with the formula for normal returns, using the expected mean and variance of the portfolio over the observation period."
      ]
    },
    {
      "cell_type": "code",
      "metadata": {
        "id": "kZyuzgYOa9Yl"
      },
      "source": [
        "##################################################################\n",
        "###              VaR calculation for a Gaussian law     ###\n",
        "##################################################################\n",
        "mean1 = np.mean(R_ptf)\n",
        "var1  = np.std(R_ptf, ddof = 1)**2\n",
        "# Value at risk\n",
        "VaR_99_1d = norm.ppf(1-0.99, mean1,  math.sqrt(var1))\n",
        "VaR_99_10d = norm.ppf(1-0.99, mean1*10,  math.sqrt(10*var1))\n",
        "print('Daily VaR 99% :   ', \"{0:.3f}%\".format(100*VaR_99_1d))\n",
        "print('10 business days VaR 99% :   ', \"{0:.3f}%\".format(100*VaR_99_10d))"
      ],
      "execution_count": null,
      "outputs": []
    },
    {
      "cell_type": "markdown",
      "metadata": {
        "id": "2P0bmdWPnQMb"
      },
      "source": [
        "## Bootstrap Historical VaR Simulation (BHVS)\n",
        "Here the **VaR** of the portfolio is calculated by simulations. The **VaR** is calculated over a 10 business days period by simulating 10 successive vectors of daily returns for the components of the portfolio. These 10 successive vectors of daily retuns are generated according to the Bootstrap method, by picking with replacement 10 vectors of returns from the series of vectors of daily returns, calculated from \"startdate\" to \"end date\". So basically, the Bootstrap method is a Monte Carlo method applied to an empirical probability. The calculation of the **BHVS** is made here for the portfolio of 5 stocks from the GDAX 30 for which the data have been extracted above."
      ]
    },
    {
      "cell_type": "code",
      "metadata": {
        "id": "Fxqrrn_9u5He"
      },
      "source": [
        "##################################################################\n",
        "###             BHS VaR for the portfolio                      ###\n",
        "##################################################################\n",
        "\n",
        "# n vectors of daily returns for the stocks are observed\n",
        "# the VaR of the portfolio is calculated for a p business days period.\n",
        "# s simulations for p days returns are calculated\n",
        "# in each simulation, p vectors of stocks returns are chosen with replacement amonstg n.\n",
        "\n",
        "n = len(R.index) # number of returns per stock observed\n",
        "p = 10 # number of daily returns considered in each bootstrap simulation\n",
        "s = 10000 # number of bootstrap simulations\n",
        "\n",
        "# output of the bootstrap : array where at each simulation the return over p days is saved\n",
        "perf = np.zeros(s)\n",
        "\n",
        "## Bootstrap\n",
        "for i in range(s):\n",
        "    #select with replacement p vector of returns among the n vectors of the sample\n",
        "    idx = np.random.choice(n,p)\n",
        "    # extract the corresponding vectors in the dataset\n",
        "    RB = R.iloc[idx]\n",
        "    # Calculate the returns over the p days for each stock\n",
        "    RBP = np.prod(RB+1) - 1\n",
        "    # save the return of the portfolio over the p days\n",
        "    perf[i] = RBP.dot(w)\n",
        "\n",
        "### Histogram of the p business days returns simulated\n",
        "plt.hist(perf,30 ,histtype='step')\n",
        "plt.grid(True)\n",
        "\n",
        "# Calculation of the VaR from the simulated returns\n",
        "var = np.percentile(perf,1-0.99)\n",
        "print(\"The 10 business days VaR 99% is :\", round(var*100,2), \"%\")"
      ],
      "execution_count": null,
      "outputs": []
    },
    {
      "cell_type": "markdown",
      "source": [
        "# Security Market Line"
      ],
      "metadata": {
        "id": "sz-DU_sK61o0"
      }
    },
    {
      "cell_type": "markdown",
      "source": [
        "## Using the Tangent Portfolio"
      ],
      "metadata": {
        "id": "pavls5xs67c1"
      }
    },
    {
      "cell_type": "code",
      "source": [
        "# Library importations\n",
        "import pandas as pd\n",
        "import yfinance as yf\n",
        "import numpy as np\n",
        "import math\n",
        "from numpy import linalg as LA\n",
        "from numpy.linalg import inv\n",
        "from scipy import stats\n",
        "from matplotlib import pyplot as plt\n",
        "fig, ax = plt.subplots()\n",
        "\n",
        "r=0 # risk-free rate\n",
        "\n",
        "# Data extraction\n",
        "data = pd.Series()\n",
        "TickerDax = ['DPW.DE','ALV.DE','BMW.DE','DTE.DE','FME.DE','BAS.DE',\n",
        "        'HEN3.DE','LIN.F','SAP.DE','DBK.DE','BAYN.DE','VOW3.DE',\n",
        "       'HEI.DE','FRE.F','MRK.DE','BEI.DE','SIE.DE','MUV2.DE',\n",
        "      'DB1.DE','VNA.DE','EOAN.F','DAI.SG','ADS.DE',\n",
        "      'RWE.DE','IFX.DE','1COV.DE','TKA.DE','CON.DE','LHA.DE']\n",
        "n_TickerDax = len(TickerDax) # nb of stocks considered\n",
        "\n",
        "for x in TickerDax :\n",
        "    data[x] = yf.Ticker(x).history(start='2017-01-1',end='2017-12-31')\n",
        "\n",
        "# Variable creations\n",
        "AFactor = len(data['DPW.DE'])-1 # annualisation factor, based on number of observations in a year\n",
        "Vec1 = np.linspace(1, 1, n_TickerDax) # create a vector, with all components equal to 1\n",
        "data_R = pd.DataFrame() # daily returns\n",
        "Mdata_R = pd.DataFrame() # means of the daily returns\n",
        "Sigma = pd.DataFrame() # variance-covariance matrix of the returns annualised\n",
        "Sigma_diag = pd.DataFrame() # individual variances (derived from the variance-covariance matrix)\n",
        "\n",
        "for x in TickerDax:\n",
        "    data_R[x] = (data[x]['Close']/data[x]['Close'].shift(1)-1)\n",
        "Sigma = AFactor*data_R.cov() # annualisation, the missing values are not taken into account with .Cov()\n",
        "InvSigma = inv(Sigma)\n",
        "for x in TickerDax:\n",
        "    Sigma_diag[x] = [Sigma[x][x]]\n",
        "    Mdata_R[x]= [float(np.mean(data_R[x])) ]\n",
        "\n",
        "# Model parameters, derived from the observations\n",
        "Mean =  AFactor* Mdata_R.iloc[0] # average returns on an annualised basis\n",
        "STD = Sigma_diag.iloc[0]**.5 # standard deviations on an annualised basis\n",
        "\n",
        "# Important variables calculation\n",
        "a = Vec1.T.dot(InvSigma).dot(Vec1)\n",
        "b = Mean.T.dot(InvSigma).dot(Vec1)\n",
        "sd_a = 1 / math.sqrt(a) # standard deviation, minimum variance portfolio\n",
        "m_a = b / a # expected return, minimum variance portfolio\n",
        "m_w = math.sqrt((Mean - b/a * Vec1).T.dot(InvSigma).dot(Mean - b/a * Vec1)) # expected return, portfolio w\n",
        "m_r = math.sqrt((Mean - r * Vec1).T.dot(InvSigma).dot(Mean - r * Vec1)) # expected return, Tangent Portfolio\n",
        "\n",
        "# Graph plot\n",
        "np.random.seed(7777) # Fixing random state for reproducibility\n",
        "colors = np.random.rand(len(STD)) # each point will have its own (random) color\n",
        "plt.scatter(STD, Mean, c=colors, alpha=0.7) # plot the assets, alpha transparency parameter\n",
        "ax.annotate(TickerDax[0], (STD[0]+.01,Mean[0] ))\n",
        "ax.annotate(TickerDax[1], (STD[1]+.01,Mean[1] ))\n",
        "ax.annotate(TickerDax[2], (STD[2]+.01,Mean[2] ))\n",
        "ax.annotate(TickerDax[3], (STD[3]+.01,Mean[3]-.01 ))\n",
        "ax.annotate(TickerDax[4], (STD[4]+.01,Mean[4] ))\n",
        "range_inf = np.min(Mean) - 0.05\n",
        "range_sup = np.max(Mean) + 0.35\n",
        "z2 = np.linspace(range_inf , range_sup, 50) # range of expected returns considered\n",
        "z1 = pd.DataFrame()\n",
        "z= pd.DataFrame()\n",
        "zr= pd.DataFrame()\n",
        "i=0\n",
        "for i in range(len(z2)):\n",
        "    z1[i]= [math.sqrt( ((z2[i]- m_a)/m_w)**2 + sd_a**2 )] # Frontier\n",
        "    z[i]= [(z2[i] - b/a)/m_w] # Asymptot to the Frontier\n",
        "    zr[i]= [(z2[i] - r)/m_r] # Capital Marlet Line\n",
        "z1 = z1.iloc[0]\n",
        "z=z.iloc[0]\n",
        "zr=zr.iloc[0]\n",
        "plt.plot(z1, z2, alpha=1) # plot the Frontier # print deleted in Python 3\n",
        "plt.plot(z, z2, alpha=1) # plot the asymptot to the Frontier # print deleted in Python 3\n",
        "plt.plot(zr, z2, alpha=1) # plot the Capital Market Line # print deleted in Python 3\n",
        "plt.legend(['Capital Market Line','Frontier','Asymptot', ], loc=2)\n",
        "plt.grid(True)\n",
        "plt.xlabel('Annualised standard deviation')\n",
        "plt.ylabel('Annualised return')\n",
        "plt.show()\n",
        "\n",
        "# Useful Ouputs # bracket added around the print for Python 3\n",
        "print (\"annualised standard deviations of the returns:\")\n",
        "print (STD)\n",
        "print (\"annualised means of the returns:\")\n",
        "print (Mean)\n",
        "print (\"min variance portfolio:\")\n",
        "print (\"sd_a\", sd_a, \",m_a\", b/a)\n",
        "#print (\"matrix of variance-covariance:\")\n",
        "#print (Sigma)\n",
        "#print (\"Correl Matrix\")\n",
        "#print (data_R . corr ())\n",
        "\n",
        "# to see the DAX, add below \"plt.ylabel('Annualised return')\" the code\n",
        "DAX = yf.Ticker(x).history(start='2017-01-1',end='2017-12-31')\n",
        "Dax_R= (DAX['Close']/DAX['Close'].shift(1)-1)\n",
        "DaxFactor = len(Dax_R)\n",
        "Dax_mean = np.mean(Dax_R)*DaxFactor\n",
        "Dax_std = np.std(Dax_R)*np.sqrt(DaxFactor)\n",
        "ax.scatter(Dax_std, Dax_mean)\n",
        "ax.annotate(\"DAX\", (Dax_std,Dax_mean ))\n",
        "# for a better visibility of the asymptot change the range\n",
        "#range_inf = np.min(Mean) - 0.5\n",
        "#range_sup = np.max(Mean) + 1.5"
      ],
      "metadata": {
        "id": "PxQ9US537Lbw"
      },
      "execution_count": null,
      "outputs": []
    },
    {
      "cell_type": "code",
      "source": [
        "# Calculation Tangent Portfolio r_0=0\n",
        "pi_T=InvSigma.dot(Mean)/b # allocation of the Tangent Portfolio\n",
        "print(\"allocation Tangent Portfolio:\",pi_T)\n",
        "print(\"verification:\",pi_T.T.dot(Vec1)) # verification sum of the allocation is 1\n",
        "Cov_T=Sigma.dot(pi_T) # covariances of the assets with R_T\n",
        "v_T= pi_T.dot(Sigma).dot(pi_T)# variance of R_T\n",
        "m_T= pi_T.T.dot(Mean) # return R_T\n",
        "beta_T=Cov_T/v_T # beta of the 29 stocks relatively to the tangent portfolio\n",
        "print(\"Vol Tangent Portfolio:\",np.sqrt(v_T))\n",
        "print(\"Return Tangent Portfolio:\",m_T)\n",
        "\n",
        "fig, ax = plt.subplots()\n",
        "np.sqrt(v_T)\n",
        "y=Mean\n",
        "x=beta_T\n",
        "plt.scatter(x, y,alpha=0.7)\n",
        "plt.scatter(1, m_T,alpha=0.7)\n",
        "ax.annotate(\"Tgt\", (1,m_T))\n",
        "plt.xlabel('beta')\n",
        "plt.ylabel('return')\n",
        "plt.suptitle('SML illustration')\n",
        "plt.show()"
      ],
      "metadata": {
        "id": "kfpcmf3Z7hXH"
      },
      "execution_count": null,
      "outputs": []
    },
    {
      "cell_type": "markdown",
      "source": [
        "## Using The Market Portfolio as a proxy"
      ],
      "metadata": {
        "id": "zZw8UT2y7siH"
      }
    },
    {
      "cell_type": "code",
      "source": [
        "# Data Extraction\n",
        "# Library importations\n",
        "import yfinance as yf\n",
        "import pandas as pd\n",
        "import pandas_datareader.data as web\n",
        "import numpy as np\n",
        "\n",
        "startinput = '2017-01-01'\n",
        "endinput = '2017-12-31'\n",
        "\n",
        "Ref = '^GDAXI' # the betas are calculated relatively to Ref.\n",
        "Tickers = ['DPW.DE','ALV.DE','BMW.DE','DTE.DE','FME.DE','BAS.DE',\n",
        "        'HEN3.DE','LIN.F','SAP.DE','DBK.DE','BAYN.DE','VOW3.DE',\n",
        "       'HEI.DE','FRE.F','MRK.DE','BEI.DE','SIE.DE','MUV2.DE',\n",
        "      'DB1.DE','VNA.DE','EOAN.F','DAI.SG','ADS.DE',\n",
        "      'RWE.DE','IFX.DE','1COV.DE','TKA.DE','CON.DE','LHA.DE',Ref]\n",
        "\n",
        "S = pd.DataFrame() # create the data frame that will contain the data\n",
        "for t in Tickers :\n",
        "    S[t] = yf.Ticker(t).history(start=startinput,end=endinput)['Close']\n",
        "\n",
        "# Calculation of the mean vector and variance-covariance matrix\n",
        "R = pd.DataFrame()\n",
        "Mean = pd.DataFrame()\n",
        "Covar = pd.DataFrame()\n",
        "R =S/S.shift(1)-1 # calculate the returns\n",
        "R = R[1:] # eliminate the first raw which is undefined\n",
        "Mean = R.mean() # calculate the mean vector\n",
        "Covar = R.cov() # calculate the variance-covariance matrix\n",
        "\n",
        "# Annualisation of the mean vector and variance-covariance matrix\n",
        "Mean_A = pd.DataFrame()\n",
        "Covar_A = pd.DataFrame()\n",
        "n = len(R) # calculate the number of returns observed\n",
        "d = len(Tickers)# calculate the number of stocks used\n",
        "# Calculation of the average fraction of time (expressed in years) between two observations\n",
        "Ys= int(startinput[0:4])\n",
        "Ms= int(startinput[5:7])\n",
        "Ds= int(startinput[8:10])\n",
        "Ye= int(endinput[0:4])\n",
        "Me= int(endinput[5:7])\n",
        "De= int(endinput[8:10])\n",
        "import datetime\n",
        "startdate = datetime.date(Ys, Ms, Ds)\n",
        "enddate = datetime.date(Ye, Me, De)\n",
        "z=enddate-startdate\n",
        "Duration = float(z.days) # calculate the number of calendar days between the two dates\n",
        "m = float(len(R)-1)\n",
        "delta = Duration/365/m # calculate the time interval, delta\n",
        "Covar_A = Covar/delta # calculate the variance-covariance matrix on an annual basis\n",
        "Mean_A = Mean/delta # calculate the mean vector on an annual basis\n",
        "print (\"OK Data extracted\")\n",
        "\n",
        "\n",
        "\n",
        "#### Calculation of the betas ####\n",
        "beta = pd.DataFrame()\n",
        "i=0\n",
        "for t in Tickers :\n",
        "  beta[t]= [Covar_A.values[i,29]/Covar_A.values[29,29]]\n",
        "  i=i+1\n",
        "###################################\n",
        "import matplotlib.pyplot as plt\n",
        "fig, ax = plt.subplots()\n",
        "\n",
        "\n",
        "#### scattering beta/returns for the points ####\n",
        "y=Mean_A\n",
        "x=beta.mean()\n",
        "plt.scatter(x, y,alpha=0.7)\n",
        "plt.scatter(x[29], y[29],c='r')\n",
        "plt.suptitle('SML illustration')\n",
        "plt.xlabel('beta')\n",
        "plt.ylabel('return')\n",
        "ax.annotate(\"DAX\", (x[29],y[29]))\n",
        "\n",
        "##### Optionalities for the graph ####\n",
        "plt.grid(True)\n",
        "#plt.ylim(-0.2, 0.9)\n",
        "#plt.xlim(0, 2)\n",
        "#c=colors, alpha=0.7\n",
        "\n",
        "#### SML with r_0=0 and Ref = DAX ####\n",
        "range_inf = x.min()\n",
        "range_sup = x.max()\n",
        "SML_x = np.linspace(range_inf , range_sup, 50) # range of expected returns considered\n",
        "SML_y = SML_x*y[29]/x[29]\n",
        "plt.plot(SML_x, SML_y,alpha=1,c='b')\n",
        "#######################################\n",
        "plt.show()"
      ],
      "metadata": {
        "id": "QlhYQWwR8Y-e"
      },
      "execution_count": null,
      "outputs": []
    },
    {
      "cell_type": "code",
      "source": [],
      "metadata": {
        "id": "ZSSw8dDVXoKK"
      },
      "execution_count": null,
      "outputs": []
    }
  ]
}